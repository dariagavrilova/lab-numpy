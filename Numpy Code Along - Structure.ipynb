{
 "cells": [
  {
   "cell_type": "markdown",
   "metadata": {},
   "source": [
    "## Numpy code along\n"
   ]
  },
  {
   "cell_type": "code",
   "execution_count": 1,
   "metadata": {},
   "outputs": [],
   "source": [
    "# 'np' is the conventional alias for numpy\n",
    "import numpy as np"
   ]
  },
  {
   "cell_type": "markdown",
   "metadata": {},
   "source": [
    "#### Numpy arrays"
   ]
  },
  {
   "cell_type": "code",
   "execution_count": 2,
   "metadata": {},
   "outputs": [
    {
     "data": {
      "text/plain": [
       "array([1, 2, 3])"
      ]
     },
     "execution_count": 2,
     "metadata": {},
     "output_type": "execute_result"
    }
   ],
   "source": [
    "np.array([1,2,3])"
   ]
  },
  {
   "cell_type": "markdown",
   "metadata": {},
   "source": [
    "#### Generate an array with random numbers"
   ]
  },
  {
   "cell_type": "code",
   "execution_count": 6,
   "metadata": {},
   "outputs": [
    {
     "data": {
      "text/plain": [
       "array([0.22199317, 0.87073231, 0.20671916, 0.91861091, 0.48841119,\n",
       "       0.61174386, 0.76590786, 0.51841799, 0.2968005 , 0.18772123])"
      ]
     },
     "execution_count": 6,
     "metadata": {},
     "output_type": "execute_result"
    }
   ],
   "source": [
    "# define a random seed first!\n",
    "np.random.seed(5)\n",
    "np.random.random(10)"
   ]
  },
  {
   "cell_type": "markdown",
   "metadata": {},
   "source": [
    "### Other ways to create arrays\n",
    "\n",
    "#### List to array\n",
    "\n",
    "This works the same way whether you have a list of lists, a list of tuples, a tuple of lists, or a tuple of tuples."
   ]
  },
  {
   "cell_type": "code",
   "execution_count": 7,
   "metadata": {},
   "outputs": [],
   "source": [
    "lst =[43,356,2,31,5,6,1]"
   ]
  },
  {
   "cell_type": "code",
   "execution_count": 8,
   "metadata": {},
   "outputs": [
    {
     "data": {
      "text/plain": [
       "array([ 43, 356,   2,  31,   5,   6,   1])"
      ]
     },
     "execution_count": 8,
     "metadata": {},
     "output_type": "execute_result"
    }
   ],
   "source": [
    "np.array(lst)"
   ]
  },
  {
   "cell_type": "code",
   "execution_count": null,
   "metadata": {},
   "outputs": [],
   "source": [
    "[1,2,3]+[4,5,6]"
   ]
  },
  {
   "cell_type": "code",
   "execution_count": 10,
   "metadata": {},
   "outputs": [
    {
     "data": {
      "text/plain": [
       "array([5, 7, 9])"
      ]
     },
     "execution_count": 10,
     "metadata": {},
     "output_type": "execute_result"
    }
   ],
   "source": [
    "np.array([1,2,3]) + np.array([4,5,6])"
   ]
  },
  {
   "cell_type": "markdown",
   "metadata": {},
   "source": [
    "#### Constant arrays"
   ]
  },
  {
   "cell_type": "code",
   "execution_count": 9,
   "metadata": {},
   "outputs": [
    {
     "data": {
      "text/plain": [
       "array([10, 10, 10, 10, 10, 10, 10, 10])"
      ]
     },
     "execution_count": 9,
     "metadata": {},
     "output_type": "execute_result"
    }
   ],
   "source": [
    "# Create an array of all zeros\n",
    "np.zeros(12)\n",
    "\n",
    "# Create an array of all ones\n",
    "np.ones(12)\n",
    "\n",
    "# Create any constant array\n",
    "np.full(8,10)"
   ]
  },
  {
   "cell_type": "markdown",
   "metadata": {},
   "source": [
    "#### Sequential arrays"
   ]
  },
  {
   "cell_type": "code",
   "execution_count": 12,
   "metadata": {},
   "outputs": [
    {
     "data": {
      "text/plain": [
       "array([ 0,  2,  4,  6,  8, 10, 12, 14, 16, 18])"
      ]
     },
     "execution_count": 12,
     "metadata": {},
     "output_type": "execute_result"
    }
   ],
   "source": [
    "# Create an array filled with a linear sequence\n",
    "# Starting at 0, ending at 20, stepping by 2\n",
    "# (this is similar to the built-in range() function)\n",
    "np.arange(0,20,2)"
   ]
  },
  {
   "cell_type": "code",
   "execution_count": 13,
   "metadata": {},
   "outputs": [
    {
     "data": {
      "text/plain": [
       "array([0.  , 0.25, 0.5 , 0.75, 1.  ])"
      ]
     },
     "execution_count": 13,
     "metadata": {},
     "output_type": "execute_result"
    }
   ],
   "source": [
    "# Create an array of five values evenly spaced between 0 and 1\n",
    "np.linspace(0,1,5)"
   ]
  },
  {
   "cell_type": "code",
   "execution_count": 17,
   "metadata": {},
   "outputs": [
    {
     "data": {
      "text/plain": [
       "array([[ 1.62434536, -0.61175641, -0.52817175],\n",
       "       [-1.07296862,  0.86540763, -2.3015387 ],\n",
       "       [ 1.74481176, -0.7612069 ,  0.3190391 ]])"
      ]
     },
     "execution_count": 17,
     "metadata": {},
     "output_type": "execute_result"
    }
   ],
   "source": [
    "np.random.seed(1)\n",
    "np.random.normal(loc = 0, scale = 1, size = (3,3))"
   ]
  },
  {
   "cell_type": "code",
   "execution_count": 22,
   "metadata": {},
   "outputs": [],
   "source": [
    "# Create a 3x3 array of random integers in the interval [0, 10)\n",
    "a=np.random.randint(0,10,(3,3))"
   ]
  },
  {
   "cell_type": "code",
   "execution_count": 28,
   "metadata": {},
   "outputs": [
    {
     "ename": "NameError",
     "evalue": "name 'int8' is not defined",
     "output_type": "error",
     "traceback": [
      "\u001b[0;31m---------------------------------------------------------------------------\u001b[0m",
      "\u001b[0;31mNameError\u001b[0m                                 Traceback (most recent call last)",
      "\u001b[0;32m<ipython-input-28-230212a5b446>\u001b[0m in \u001b[0;36m<module>\u001b[0;34m\u001b[0m\n\u001b[0;32m----> 1\u001b[0;31m \u001b[0mb\u001b[0m\u001b[0;34m=\u001b[0m\u001b[0mnp\u001b[0m\u001b[0;34m.\u001b[0m\u001b[0mrandom\u001b[0m\u001b[0;34m.\u001b[0m\u001b[0mrandint\u001b[0m\u001b[0;34m(\u001b[0m\u001b[0;36m0\u001b[0m\u001b[0;34m,\u001b[0m\u001b[0;36m10\u001b[0m\u001b[0;34m,\u001b[0m\u001b[0;34m(\u001b[0m\u001b[0;36m3\u001b[0m\u001b[0;34m,\u001b[0m\u001b[0;36m3\u001b[0m\u001b[0;34m)\u001b[0m\u001b[0;34m,\u001b[0m \u001b[0mdtype\u001b[0m\u001b[0;34m=\u001b[0m\u001b[0mint8\u001b[0m\u001b[0;34m)\u001b[0m\u001b[0;34m\u001b[0m\u001b[0;34m\u001b[0m\u001b[0m\n\u001b[0m",
      "\u001b[0;31mNameError\u001b[0m: name 'int8' is not defined"
     ]
    }
   ],
   "source": [
    "b=np.random.randint(0,10,(3,3), dtype=int8)"
   ]
  },
  {
   "cell_type": "markdown",
   "metadata": {},
   "source": [
    "#### Array Attributes\n",
    "\n",
    "shape, size, number of dimentions, data type, item size, number of bytes..."
   ]
  },
  {
   "cell_type": "code",
   "execution_count": 24,
   "metadata": {},
   "outputs": [
    {
     "data": {
      "text/plain": [
       "(3, 3)"
      ]
     },
     "execution_count": 24,
     "metadata": {},
     "output_type": "execute_result"
    }
   ],
   "source": [
    "a.shape"
   ]
  },
  {
   "cell_type": "code",
   "execution_count": 25,
   "metadata": {},
   "outputs": [
    {
     "data": {
      "text/plain": [
       "9"
      ]
     },
     "execution_count": 25,
     "metadata": {},
     "output_type": "execute_result"
    }
   ],
   "source": [
    "a.size"
   ]
  },
  {
   "cell_type": "code",
   "execution_count": 26,
   "metadata": {},
   "outputs": [
    {
     "data": {
      "text/plain": [
       "2"
      ]
     },
     "execution_count": 26,
     "metadata": {},
     "output_type": "execute_result"
    }
   ],
   "source": [
    "a.ndim"
   ]
  },
  {
   "cell_type": "code",
   "execution_count": 27,
   "metadata": {},
   "outputs": [
    {
     "data": {
      "text/plain": [
       "dtype('int64')"
      ]
     },
     "execution_count": 27,
     "metadata": {},
     "output_type": "execute_result"
    }
   ],
   "source": [
    "a.dtype"
   ]
  },
  {
   "cell_type": "code",
   "execution_count": 29,
   "metadata": {},
   "outputs": [
    {
     "data": {
      "text/plain": [
       "8"
      ]
     },
     "execution_count": 29,
     "metadata": {},
     "output_type": "execute_result"
    }
   ],
   "source": [
    "a.itemsize"
   ]
  },
  {
   "cell_type": "code",
   "execution_count": 30,
   "metadata": {},
   "outputs": [
    {
     "data": {
      "text/plain": [
       "72"
      ]
     },
     "execution_count": 30,
     "metadata": {},
     "output_type": "execute_result"
    }
   ],
   "source": [
    "a.nbytes"
   ]
  },
  {
   "cell_type": "markdown",
   "metadata": {},
   "source": [
    "#### Array indexing"
   ]
  },
  {
   "cell_type": "code",
   "execution_count": 32,
   "metadata": {},
   "outputs": [
    {
     "data": {
      "text/plain": [
       "array([[8, 3, 9],\n",
       "       [8, 7, 3],\n",
       "       [6, 5, 1]])"
      ]
     },
     "execution_count": 32,
     "metadata": {},
     "output_type": "execute_result"
    }
   ],
   "source": [
    "a"
   ]
  },
  {
   "cell_type": "code",
   "execution_count": 31,
   "metadata": {},
   "outputs": [
    {
     "data": {
      "text/plain": [
       "8"
      ]
     },
     "execution_count": 31,
     "metadata": {},
     "output_type": "execute_result"
    }
   ],
   "source": [
    "a[0,0]"
   ]
  },
  {
   "cell_type": "code",
   "execution_count": 33,
   "metadata": {},
   "outputs": [
    {
     "data": {
      "text/plain": [
       "array([7, 3])"
      ]
     },
     "execution_count": 33,
     "metadata": {},
     "output_type": "execute_result"
    }
   ],
   "source": [
    "# third colum\n",
    "a[1,1:3]"
   ]
  },
  {
   "cell_type": "code",
   "execution_count": 34,
   "metadata": {},
   "outputs": [
    {
     "data": {
      "text/plain": [
       "array([7, 3])"
      ]
     },
     "execution_count": 34,
     "metadata": {},
     "output_type": "execute_result"
    }
   ],
   "source": [
    "a[1,1:]"
   ]
  },
  {
   "cell_type": "code",
   "execution_count": 36,
   "metadata": {},
   "outputs": [
    {
     "data": {
      "text/plain": [
       "array([[7, 3],\n",
       "       [5, 1]])"
      ]
     },
     "execution_count": 36,
     "metadata": {},
     "output_type": "execute_result"
    }
   ],
   "source": [
    "a[1:,1:]"
   ]
  },
  {
   "cell_type": "code",
   "execution_count": 37,
   "metadata": {},
   "outputs": [
    {
     "data": {
      "text/plain": [
       "array([[7, 3],\n",
       "       [5, 1]])"
      ]
     },
     "execution_count": 37,
     "metadata": {},
     "output_type": "execute_result"
    }
   ],
   "source": [
    "a[1:3,1:3]"
   ]
  },
  {
   "cell_type": "code",
   "execution_count": 38,
   "metadata": {},
   "outputs": [
    {
     "data": {
      "text/plain": [
       "array([6, 5, 1])"
      ]
     },
     "execution_count": 38,
     "metadata": {},
     "output_type": "execute_result"
    }
   ],
   "source": [
    "a[-1]"
   ]
  },
  {
   "cell_type": "markdown",
   "metadata": {},
   "source": [
    "#### Modifying a slice will modify the array"
   ]
  },
  {
   "cell_type": "code",
   "execution_count": 49,
   "metadata": {},
   "outputs": [
    {
     "data": {
      "text/plain": [
       "array([[99,  3,  9],\n",
       "       [ 8,  7,  3],\n",
       "       [ 6,  5,  1]])"
      ]
     },
     "execution_count": 49,
     "metadata": {},
     "output_type": "execute_result"
    }
   ],
   "source": [
    "a\n"
   ]
  },
  {
   "cell_type": "code",
   "execution_count": 40,
   "metadata": {},
   "outputs": [
    {
     "data": {
      "text/plain": [
       "8"
      ]
     },
     "execution_count": 40,
     "metadata": {},
     "output_type": "execute_result"
    }
   ],
   "source": [
    "a[0,0]"
   ]
  },
  {
   "cell_type": "code",
   "execution_count": 41,
   "metadata": {},
   "outputs": [],
   "source": [
    "a[0,0]=100"
   ]
  },
  {
   "cell_type": "code",
   "execution_count": 50,
   "metadata": {},
   "outputs": [],
   "source": [
    "b=a[0,0]"
   ]
  },
  {
   "cell_type": "code",
   "execution_count": 43,
   "metadata": {},
   "outputs": [
    {
     "data": {
      "text/plain": [
       "100"
      ]
     },
     "execution_count": 43,
     "metadata": {},
     "output_type": "execute_result"
    }
   ],
   "source": [
    "b"
   ]
  },
  {
   "cell_type": "code",
   "execution_count": 51,
   "metadata": {},
   "outputs": [],
   "source": [
    "a[0,0]=99"
   ]
  },
  {
   "cell_type": "code",
   "execution_count": 52,
   "metadata": {},
   "outputs": [
    {
     "data": {
      "text/plain": [
       "99"
      ]
     },
     "execution_count": 52,
     "metadata": {},
     "output_type": "execute_result"
    }
   ],
   "source": [
    "b"
   ]
  },
  {
   "cell_type": "code",
   "execution_count": 55,
   "metadata": {},
   "outputs": [
    {
     "ename": "NameError",
     "evalue": "name 'a_chunk' is not defined",
     "output_type": "error",
     "traceback": [
      "\u001b[0;31m---------------------------------------------------------------------------\u001b[0m",
      "\u001b[0;31mNameError\u001b[0m                                 Traceback (most recent call last)",
      "\u001b[0;32m<ipython-input-55-8307d1fcdf70>\u001b[0m in \u001b[0;36m<module>\u001b[0;34m\u001b[0m\n\u001b[0;32m----> 1\u001b[0;31m \u001b[0ma_chunk\u001b[0m\u001b[0;34m[\u001b[0m\u001b[0;36m0\u001b[0m\u001b[0;34m,\u001b[0m\u001b[0;36m0\u001b[0m\u001b[0;34m]\u001b[0m\u001b[0;34m=\u001b[0m\u001b[0;36m0\u001b[0m\u001b[0;34m\u001b[0m\u001b[0;34m\u001b[0m\u001b[0m\n\u001b[0m\u001b[1;32m      2\u001b[0m \u001b[0mprint\u001b[0m\u001b[0;34m(\u001b[0m\u001b[0ma_chunk\u001b[0m\u001b[0;34m)\u001b[0m\u001b[0;34m\u001b[0m\u001b[0;34m\u001b[0m\u001b[0m\n\u001b[1;32m      3\u001b[0m \u001b[0mprint\u001b[0m\u001b[0;34m(\u001b[0m\u001b[0;34m\"\\n\"\u001b[0m\u001b[0;34m)\u001b[0m\u001b[0;34m\u001b[0m\u001b[0;34m\u001b[0m\u001b[0m\n\u001b[1;32m      4\u001b[0m \u001b[0mprint\u001b[0m\u001b[0;34m(\u001b[0m\u001b[0ma_chunk\u001b[0m\u001b[0;34m)\u001b[0m\u001b[0;34m\u001b[0m\u001b[0;34m\u001b[0m\u001b[0m\n",
      "\u001b[0;31mNameError\u001b[0m: name 'a_chunk' is not defined"
     ]
    }
   ],
   "source": [
    "a_chunk[0,0]=0\n",
    "print(a_chunk)\n",
    "print(\"\\n\")\n",
    "print(a_chunk)"
   ]
  },
  {
   "cell_type": "markdown",
   "metadata": {},
   "source": [
    "#### Boolean indexing\n",
    "\n",
    "This is what you do when you need to select all elements greater than a constant, for example."
   ]
  },
  {
   "cell_type": "code",
   "execution_count": 57,
   "metadata": {},
   "outputs": [
    {
     "data": {
      "text/plain": [
       "array([[99,  3,  9],\n",
       "       [ 8,  7,  3],\n",
       "       [ 6,  5,  1]])"
      ]
     },
     "execution_count": 57,
     "metadata": {},
     "output_type": "execute_result"
    }
   ],
   "source": [
    "a"
   ]
  },
  {
   "cell_type": "code",
   "execution_count": 59,
   "metadata": {},
   "outputs": [
    {
     "data": {
      "text/plain": [
       "array([[ True, False,  True],\n",
       "       [ True,  True, False],\n",
       "       [ True, False, False]])"
      ]
     },
     "execution_count": 59,
     "metadata": {},
     "output_type": "execute_result"
    }
   ],
   "source": [
    "(a>5)"
   ]
  },
  {
   "cell_type": "code",
   "execution_count": 60,
   "metadata": {},
   "outputs": [
    {
     "data": {
      "text/plain": [
       "array([99,  9,  8,  7,  6])"
      ]
     },
     "execution_count": 60,
     "metadata": {},
     "output_type": "execute_result"
    }
   ],
   "source": [
    "a[(a>5)]"
   ]
  },
  {
   "cell_type": "code",
   "execution_count": 61,
   "metadata": {},
   "outputs": [
    {
     "data": {
      "text/plain": [
       "array([99])"
      ]
     },
     "execution_count": 61,
     "metadata": {},
     "output_type": "execute_result"
    }
   ],
   "source": [
    "a[(a>np.mean(a))]"
   ]
  },
  {
   "cell_type": "markdown",
   "metadata": {},
   "source": [
    "#### Reshaping arrays"
   ]
  },
  {
   "cell_type": "code",
   "execution_count": 63,
   "metadata": {},
   "outputs": [
    {
     "data": {
      "text/plain": [
       "array([1, 2, 3, 4, 5, 6, 7, 8, 9])"
      ]
     },
     "execution_count": 63,
     "metadata": {},
     "output_type": "execute_result"
    }
   ],
   "source": [
    "np.arange(1,10)"
   ]
  },
  {
   "cell_type": "code",
   "execution_count": 64,
   "metadata": {},
   "outputs": [
    {
     "data": {
      "text/plain": [
       "array([[1, 2, 3],\n",
       "       [4, 5, 6],\n",
       "       [7, 8, 9]])"
      ]
     },
     "execution_count": 64,
     "metadata": {},
     "output_type": "execute_result"
    }
   ],
   "source": [
    "np.arange(1,10).reshape(3,3)"
   ]
  },
  {
   "cell_type": "markdown",
   "metadata": {},
   "source": [
    "#### Subarrays return views, not copies!"
   ]
  },
  {
   "cell_type": "code",
   "execution_count": null,
   "metadata": {},
   "outputs": [],
   "source": []
  },
  {
   "cell_type": "markdown",
   "metadata": {},
   "source": [
    "#### Creating copies"
   ]
  },
  {
   "cell_type": "code",
   "execution_count": 65,
   "metadata": {},
   "outputs": [],
   "source": [
    "a_copy=a.copy()"
   ]
  },
  {
   "cell_type": "code",
   "execution_count": 66,
   "metadata": {},
   "outputs": [
    {
     "data": {
      "text/plain": [
       "array([[99,  3,  9],\n",
       "       [ 8,  7,  3],\n",
       "       [ 6,  5,  1]])"
      ]
     },
     "execution_count": 66,
     "metadata": {},
     "output_type": "execute_result"
    }
   ],
   "source": [
    "a_copy"
   ]
  },
  {
   "cell_type": "code",
   "execution_count": null,
   "metadata": {},
   "outputs": [],
   "source": []
  },
  {
   "cell_type": "markdown",
   "metadata": {},
   "source": [
    "#### Arrays with 3+ dimensions"
   ]
  },
  {
   "cell_type": "code",
   "execution_count": 70,
   "metadata": {},
   "outputs": [
    {
     "data": {
      "text/plain": [
       "array([[[671, 476, 911],\n",
       "        [500, 788, 252]],\n",
       "\n",
       "       [[667, 236,  87],\n",
       "        [392, 740,  54]],\n",
       "\n",
       "       [[432, 879, 445],\n",
       "        [756, 291, 101]],\n",
       "\n",
       "       [[741, 801, 916],\n",
       "        [452, 793, 724]],\n",
       "\n",
       "       [[230, 607, 167],\n",
       "        [688, 232, 902]]])"
      ]
     },
     "execution_count": 70,
     "metadata": {},
     "output_type": "execute_result"
    }
   ],
   "source": [
    "np.random.randint(low=1, high =1000, size=(5,2,3))"
   ]
  },
  {
   "cell_type": "code",
   "execution_count": 69,
   "metadata": {},
   "outputs": [
    {
     "data": {
      "text/plain": [
       "array([[[0.24621107, 0.86002795, 0.53883106],\n",
       "        [0.55282198, 0.84203089, 0.12417332]],\n",
       "\n",
       "       [[0.27918368, 0.58575927, 0.96959575],\n",
       "        [0.56103022, 0.01864729, 0.80063267]],\n",
       "\n",
       "       [[0.23297427, 0.8071052 , 0.38786064],\n",
       "        [0.86354185, 0.74712164, 0.55624023]],\n",
       "\n",
       "       [[0.13645523, 0.05991769, 0.12134346],\n",
       "        [0.04455188, 0.10749413, 0.22570934]],\n",
       "\n",
       "       [[0.71298898, 0.55971698, 0.01255598],\n",
       "        [0.07197428, 0.96727633, 0.56810046]]])"
      ]
     },
     "execution_count": 69,
     "metadata": {},
     "output_type": "execute_result"
    }
   ],
   "source": [
    "np.random.random((5,2,3))"
   ]
  },
  {
   "cell_type": "markdown",
   "metadata": {},
   "source": [
    "### Operations:\n",
    "\n",
    "- np.sum, np.multiply, np.power...\n"
   ]
  },
  {
   "cell_type": "code",
   "execution_count": 71,
   "metadata": {},
   "outputs": [
    {
     "data": {
      "text/plain": [
       "array([[99,  3,  9],\n",
       "       [ 8,  7,  3],\n",
       "       [ 6,  5,  1]])"
      ]
     },
     "execution_count": 71,
     "metadata": {},
     "output_type": "execute_result"
    }
   ],
   "source": [
    "a"
   ]
  },
  {
   "cell_type": "code",
   "execution_count": 72,
   "metadata": {},
   "outputs": [
    {
     "data": {
      "text/plain": [
       "array([[9801,    9,   81],\n",
       "       [  64,   49,    9],\n",
       "       [  36,   25,    1]])"
      ]
     },
     "execution_count": 72,
     "metadata": {},
     "output_type": "execute_result"
    }
   ],
   "source": [
    "a**2"
   ]
  },
  {
   "cell_type": "markdown",
   "metadata": {},
   "source": [
    "Lists do not behave the same way (sum means concatenation)"
   ]
  },
  {
   "cell_type": "code",
   "execution_count": 74,
   "metadata": {},
   "outputs": [
    {
     "data": {
      "text/plain": [
       "array([4, 6])"
      ]
     },
     "execution_count": 74,
     "metadata": {},
     "output_type": "execute_result"
    }
   ],
   "source": [
    "np.array([1,2])+np.array([3,4])"
   ]
  },
  {
   "cell_type": "markdown",
   "metadata": {},
   "source": [
    "#### Aggregations: \n",
    "\n",
    "- np.max, np.mean, np.std..."
   ]
  },
  {
   "cell_type": "code",
   "execution_count": 75,
   "metadata": {},
   "outputs": [
    {
     "data": {
      "text/plain": [
       "array([0.69646919, 0.28613933, 0.22685145, 0.55131477, 0.71946897,\n",
       "       0.42310646, 0.9807642 , 0.68482974, 0.4809319 , 0.39211752])"
      ]
     },
     "execution_count": 75,
     "metadata": {},
     "output_type": "execute_result"
    }
   ],
   "source": [
    "# compute the standard deviation of this array, first using np.std() and then without using this function\n",
    "np.random.seed(123)\n",
    "rand = np.random.random(10)\n",
    "rand"
   ]
  },
  {
   "cell_type": "code",
   "execution_count": 76,
   "metadata": {},
   "outputs": [
    {
     "data": {
      "text/plain": [
       "0.544199352975335"
      ]
     },
     "execution_count": 76,
     "metadata": {},
     "output_type": "execute_result"
    }
   ],
   "source": [
    "np.mean(rand)"
   ]
  },
  {
   "cell_type": "code",
   "execution_count": 78,
   "metadata": {},
   "outputs": [
    {
     "data": {
      "text/plain": [
       "0.21758256938579879"
      ]
     },
     "execution_count": 78,
     "metadata": {},
     "output_type": "execute_result"
    }
   ],
   "source": [
    "#standart deviation\n",
    "np.std(rand)"
   ]
  },
  {
   "cell_type": "code",
   "execution_count": 79,
   "metadata": {},
   "outputs": [
    {
     "data": {
      "text/plain": [
       "0.21758256938579879"
      ]
     },
     "execution_count": 79,
     "metadata": {},
     "output_type": "execute_result"
    }
   ],
   "source": [
    "#standart deviation, classmate idea\n",
    "np.sqrt(np.sum((rand-np.mean(rand))**2)/(len(rand)))"
   ]
  },
  {
   "cell_type": "code",
   "execution_count": 80,
   "metadata": {},
   "outputs": [
    {
     "data": {
      "text/plain": [
       "array([ 0.15226983, -0.25806002, -0.3173479 ,  0.00711542,  0.17526962,\n",
       "       -0.12109289,  0.43656485,  0.14063039, -0.06326745, -0.15208183])"
      ]
     },
     "execution_count": 80,
     "metadata": {},
     "output_type": "execute_result"
    }
   ],
   "source": [
    "#standart deviation Guillem explanation step by step\n",
    "deviations = rand - np.mean(rand)\n",
    "deviations"
   ]
  },
  {
   "cell_type": "code",
   "execution_count": 81,
   "metadata": {},
   "outputs": [
    {
     "data": {
      "text/plain": [
       "array([2.31861019e-02, 6.65949729e-02, 1.00709689e-01, 5.06291464e-05,\n",
       "       3.07194386e-02, 1.46634887e-02, 1.90588864e-01, 1.97769054e-02,\n",
       "       4.00277042e-03, 2.31288845e-02])"
      ]
     },
     "execution_count": 81,
     "metadata": {},
     "output_type": "execute_result"
    }
   ],
   "source": [
    "#standart deviation\n",
    "deviations_squared = deviations**2\n",
    "deviations_squared"
   ]
  },
  {
   "cell_type": "code",
   "execution_count": 82,
   "metadata": {},
   "outputs": [
    {
     "data": {
      "text/plain": [
       "0.04734217450052595"
      ]
     },
     "execution_count": 82,
     "metadata": {},
     "output_type": "execute_result"
    }
   ],
   "source": [
    "mean_deviations_squared = np.mean(deviations_squared)\n",
    "mean_deviations_squared"
   ]
  },
  {
   "cell_type": "code",
   "execution_count": 83,
   "metadata": {},
   "outputs": [
    {
     "data": {
      "text/plain": [
       "0.21758256938579879"
      ]
     },
     "execution_count": 83,
     "metadata": {},
     "output_type": "execute_result"
    }
   ],
   "source": [
    "np.sqrt(mean_deviations_squared)"
   ]
  },
  {
   "cell_type": "code",
   "execution_count": null,
   "metadata": {},
   "outputs": [],
   "source": [
    "#broken bones and favorite numbers\n",
    "bones="
   ]
  },
  {
   "cell_type": "markdown",
   "metadata": {},
   "source": [
    "#### Performance of numpy operations vs lists"
   ]
  },
  {
   "cell_type": "code",
   "execution_count": 86,
   "metadata": {},
   "outputs": [],
   "source": [
    "from time import time\n",
    "\n",
    "n = 1000000"
   ]
  },
  {
   "cell_type": "code",
   "execution_count": 95,
   "metadata": {},
   "outputs": [],
   "source": [
    "start_time=time()\n",
    "\n",
    "list_of_numbers=[]\n",
    "\n",
    "for i in range(n):\n",
    "    list_of_numbers.append(i**5)\n",
    "\n",
    "end_time=time()"
   ]
  },
  {
   "cell_type": "code",
   "execution_count": 96,
   "metadata": {},
   "outputs": [
    {
     "data": {
      "text/plain": [
       "0.8942980766296387"
      ]
     },
     "execution_count": 96,
     "metadata": {},
     "output_type": "execute_result"
    }
   ],
   "source": [
    "end_time-start_time"
   ]
  },
  {
   "cell_type": "code",
   "execution_count": 97,
   "metadata": {},
   "outputs": [
    {
     "data": {
      "text/plain": [
       "[0,\n",
       " 1,\n",
       " 32,\n",
       " 243,\n",
       " 1024,\n",
       " 3125,\n",
       " 7776,\n",
       " 16807,\n",
       " 32768,\n",
       " 59049,\n",
       " 100000,\n",
       " 161051,\n",
       " 248832,\n",
       " 371293,\n",
       " 537824,\n",
       " 759375,\n",
       " 1048576,\n",
       " 1419857,\n",
       " 1889568,\n",
       " 2476099,\n",
       " 3200000,\n",
       " 4084101,\n",
       " 5153632,\n",
       " 6436343,\n",
       " 7962624,\n",
       " 9765625,\n",
       " 11881376,\n",
       " 14348907,\n",
       " 17210368,\n",
       " 20511149,\n",
       " 24300000,\n",
       " 28629151,\n",
       " 33554432,\n",
       " 39135393,\n",
       " 45435424,\n",
       " 52521875,\n",
       " 60466176,\n",
       " 69343957,\n",
       " 79235168,\n",
       " 90224199,\n",
       " 102400000,\n",
       " 115856201,\n",
       " 130691232,\n",
       " 147008443,\n",
       " 164916224,\n",
       " 184528125,\n",
       " 205962976,\n",
       " 229345007,\n",
       " 254803968,\n",
       " 282475249,\n",
       " 312500000,\n",
       " 345025251,\n",
       " 380204032,\n",
       " 418195493,\n",
       " 459165024,\n",
       " 503284375,\n",
       " 550731776,\n",
       " 601692057,\n",
       " 656356768,\n",
       " 714924299,\n",
       " 777600000,\n",
       " 844596301,\n",
       " 916132832,\n",
       " 992436543,\n",
       " 1073741824,\n",
       " 1160290625,\n",
       " 1252332576,\n",
       " 1350125107,\n",
       " 1453933568,\n",
       " 1564031349,\n",
       " 1680700000,\n",
       " 1804229351,\n",
       " 1934917632,\n",
       " 2073071593,\n",
       " 2219006624,\n",
       " 2373046875,\n",
       " 2535525376,\n",
       " 2706784157,\n",
       " 2887174368,\n",
       " 3077056399,\n",
       " 3276800000,\n",
       " 3486784401,\n",
       " 3707398432,\n",
       " 3939040643,\n",
       " 4182119424,\n",
       " 4437053125,\n",
       " 4704270176,\n",
       " 4984209207,\n",
       " 5277319168,\n",
       " 5584059449,\n",
       " 5904900000,\n",
       " 6240321451,\n",
       " 6590815232,\n",
       " 6956883693,\n",
       " 7339040224,\n",
       " 7737809375,\n",
       " 8153726976,\n",
       " 8587340257,\n",
       " 9039207968,\n",
       " 9509900499,\n",
       " 10000000000,\n",
       " 10510100501,\n",
       " 11040808032,\n",
       " 11592740743,\n",
       " 12166529024,\n",
       " 12762815625,\n",
       " 13382255776,\n",
       " 14025517307,\n",
       " 14693280768,\n",
       " 15386239549,\n",
       " 16105100000,\n",
       " 16850581551,\n",
       " 17623416832,\n",
       " 18424351793,\n",
       " 19254145824,\n",
       " 20113571875,\n",
       " 21003416576,\n",
       " 21924480357,\n",
       " 22877577568,\n",
       " 23863536599,\n",
       " 24883200000,\n",
       " 25937424601,\n",
       " 27027081632,\n",
       " 28153056843,\n",
       " 29316250624,\n",
       " 30517578125,\n",
       " 31757969376,\n",
       " 33038369407,\n",
       " 34359738368,\n",
       " 35723051649,\n",
       " 37129300000,\n",
       " 38579489651,\n",
       " 40074642432,\n",
       " 41615795893,\n",
       " 43204003424,\n",
       " 44840334375,\n",
       " 46525874176,\n",
       " 48261724457,\n",
       " 50049003168,\n",
       " 51888844699,\n",
       " 53782400000,\n",
       " 55730836701,\n",
       " 57735339232,\n",
       " 59797108943,\n",
       " 61917364224,\n",
       " 64097340625,\n",
       " 66338290976,\n",
       " 68641485507,\n",
       " 71008211968,\n",
       " 73439775749,\n",
       " 75937500000,\n",
       " 78502725751,\n",
       " 81136812032,\n",
       " 83841135993,\n",
       " 86617093024,\n",
       " 89466096875,\n",
       " 92389579776,\n",
       " 95388992557,\n",
       " 98465804768,\n",
       " 101621504799,\n",
       " 104857600000,\n",
       " 108175616801,\n",
       " 111577100832,\n",
       " 115063617043,\n",
       " 118636749824,\n",
       " 122298103125,\n",
       " 126049300576,\n",
       " 129891985607,\n",
       " 133827821568,\n",
       " 137858491849,\n",
       " 141985700000,\n",
       " 146211169851,\n",
       " 150536645632,\n",
       " 154963892093,\n",
       " 159494694624,\n",
       " 164130859375,\n",
       " 168874213376,\n",
       " 173726604657,\n",
       " 178689902368,\n",
       " 183765996899,\n",
       " 188956800000,\n",
       " 194264244901,\n",
       " 199690286432,\n",
       " 205236901143,\n",
       " 210906087424,\n",
       " 216699865625,\n",
       " 222620278176,\n",
       " 228669389707,\n",
       " 234849287168,\n",
       " 241162079949,\n",
       " 247609900000,\n",
       " 254194901951,\n",
       " 260919263232,\n",
       " 267785184193,\n",
       " 274794888224,\n",
       " 281950621875,\n",
       " 289254654976,\n",
       " 296709280757,\n",
       " 304316815968,\n",
       " 312079600999,\n",
       " 320000000000,\n",
       " 328080401001,\n",
       " 336323216032,\n",
       " 344730881243,\n",
       " 353305857024,\n",
       " 362050628125,\n",
       " 370967703776,\n",
       " 380059617807,\n",
       " 389328928768,\n",
       " 398778220049,\n",
       " 408410100000,\n",
       " 418227202051,\n",
       " 428232184832,\n",
       " 438427732293,\n",
       " 448816553824,\n",
       " 459401384375,\n",
       " 470184984576,\n",
       " 481170140857,\n",
       " 492359665568,\n",
       " 503756397099,\n",
       " 515363200000,\n",
       " 527182965101,\n",
       " 539218609632,\n",
       " 551473077343,\n",
       " 563949338624,\n",
       " 576650390625,\n",
       " 589579257376,\n",
       " 602738989907,\n",
       " 616132666368,\n",
       " 629763392149,\n",
       " 643634300000,\n",
       " 657748550151,\n",
       " 672109330432,\n",
       " 686719856393,\n",
       " 701583371424,\n",
       " 716703146875,\n",
       " 732082482176,\n",
       " 747724704957,\n",
       " 763633171168,\n",
       " 779811265199,\n",
       " 796262400000,\n",
       " 812990017201,\n",
       " 829997587232,\n",
       " 847288609443,\n",
       " 864866612224,\n",
       " 882735153125,\n",
       " 900897818976,\n",
       " 919358226007,\n",
       " 938120019968,\n",
       " 957186876249,\n",
       " 976562500000,\n",
       " 996250626251,\n",
       " 1016255020032,\n",
       " 1036579476493,\n",
       " 1057227821024,\n",
       " 1078203909375,\n",
       " 1099511627776,\n",
       " 1121154893057,\n",
       " 1143137652768,\n",
       " 1165463885299,\n",
       " 1188137600000,\n",
       " 1211162837301,\n",
       " 1234543668832,\n",
       " 1258284197543,\n",
       " 1282388557824,\n",
       " 1306860915625,\n",
       " 1331705468576,\n",
       " 1356926446107,\n",
       " 1382528109568,\n",
       " 1408514752349,\n",
       " 1434890700000,\n",
       " 1461660310351,\n",
       " 1488827973632,\n",
       " 1516398112593,\n",
       " 1544375182624,\n",
       " 1572763671875,\n",
       " 1601568101376,\n",
       " 1630793025157,\n",
       " 1660443030368,\n",
       " 1690522737399,\n",
       " 1721036800000,\n",
       " 1751989905401,\n",
       " 1783386774432,\n",
       " 1815232161643,\n",
       " 1847530855424,\n",
       " 1880287678125,\n",
       " 1913507486176,\n",
       " 1947195170207,\n",
       " 1981355655168,\n",
       " 2015993900449,\n",
       " 2051114900000,\n",
       " 2086723682451,\n",
       " 2122825311232,\n",
       " 2159424884693,\n",
       " 2196527536224,\n",
       " 2234138434375,\n",
       " 2272262782976,\n",
       " 2310905821257,\n",
       " 2350072823968,\n",
       " 2389769101499,\n",
       " 2430000000000,\n",
       " 2470770901501,\n",
       " 2512087224032,\n",
       " 2553954421743,\n",
       " 2596377985024,\n",
       " 2639363440625,\n",
       " 2682916351776,\n",
       " 2727042318307,\n",
       " 2771746976768,\n",
       " 2817036000549,\n",
       " 2862915100000,\n",
       " 2909390022551,\n",
       " 2956466552832,\n",
       " 3004150512793,\n",
       " 3052447761824,\n",
       " 3101364196875,\n",
       " 3150905752576,\n",
       " 3201078401357,\n",
       " 3251888153568,\n",
       " 3303341057599,\n",
       " 3355443200000,\n",
       " 3408200705601,\n",
       " 3461619737632,\n",
       " 3515706497843,\n",
       " 3570467226624,\n",
       " 3625908203125,\n",
       " 3682035745376,\n",
       " 3738856210407,\n",
       " 3796375994368,\n",
       " 3854601532649,\n",
       " 3913539300000,\n",
       " 3973195810651,\n",
       " 4033577618432,\n",
       " 4094691316893,\n",
       " 4156543539424,\n",
       " 4219140959375,\n",
       " 4282490290176,\n",
       " 4346598285457,\n",
       " 4411471739168,\n",
       " 4477117485699,\n",
       " 4543542400000,\n",
       " 4610753397701,\n",
       " 4678757435232,\n",
       " 4747561509943,\n",
       " 4817172660224,\n",
       " 4887597965625,\n",
       " 4958844546976,\n",
       " 5030919566507,\n",
       " 5103830227968,\n",
       " 5177583776749,\n",
       " 5252187500000,\n",
       " 5327648726751,\n",
       " 5403974828032,\n",
       " 5481173216993,\n",
       " 5559251349024,\n",
       " 5638216721875,\n",
       " 5718076875776,\n",
       " 5798839393557,\n",
       " 5880511900768,\n",
       " 5963102065799,\n",
       " 6046617600000,\n",
       " 6131066257801,\n",
       " 6216455836832,\n",
       " 6302794178043,\n",
       " 6390089165824,\n",
       " 6478348728125,\n",
       " 6567580836576,\n",
       " 6657793506607,\n",
       " 6748994797568,\n",
       " 6841192812849,\n",
       " 6934395700000,\n",
       " 7028611650851,\n",
       " 7123848901632,\n",
       " 7220115733093,\n",
       " 7317420470624,\n",
       " 7415771484375,\n",
       " 7515177189376,\n",
       " 7615646045657,\n",
       " 7717186558368,\n",
       " 7819807277899,\n",
       " 7923516800000,\n",
       " 8028323765901,\n",
       " 8134236862432,\n",
       " 8241264822143,\n",
       " 8349416423424,\n",
       " 8458700490625,\n",
       " 8569125894176,\n",
       " 8680701550707,\n",
       " 8793436423168,\n",
       " 8907339520949,\n",
       " 9022419900000,\n",
       " 9138686662951,\n",
       " 9256148959232,\n",
       " 9374815985193,\n",
       " 9494696984224,\n",
       " 9615801246875,\n",
       " 9738138110976,\n",
       " 9861716961757,\n",
       " 9986547231968,\n",
       " 10112638401999,\n",
       " 10240000000000,\n",
       " 10368641602001,\n",
       " 10498572832032,\n",
       " 10629803362243,\n",
       " 10762342913024,\n",
       " 10896201253125,\n",
       " 11031388199776,\n",
       " 11167913618807,\n",
       " 11305787424768,\n",
       " 11445019581049,\n",
       " 11585620100000,\n",
       " 11727599043051,\n",
       " 11870966520832,\n",
       " 12015732693293,\n",
       " 12161907769824,\n",
       " 12309502009375,\n",
       " 12458525720576,\n",
       " 12608989261857,\n",
       " 12760903041568,\n",
       " 12914277518099,\n",
       " 13069123200000,\n",
       " 13225450646101,\n",
       " 13383270465632,\n",
       " 13542593318343,\n",
       " 13703429914624,\n",
       " 13865791015625,\n",
       " 14029687433376,\n",
       " 14195130030907,\n",
       " 14362129722368,\n",
       " 14530697473149,\n",
       " 14700844300000,\n",
       " 14872581271151,\n",
       " 15045919506432,\n",
       " 15220870177393,\n",
       " 15397444507424,\n",
       " 15575653771875,\n",
       " 15755509298176,\n",
       " 15937022465957,\n",
       " 16120204707168,\n",
       " 16305067506199,\n",
       " 16491622400000,\n",
       " 16679880978201,\n",
       " 16869854883232,\n",
       " 17061555810443,\n",
       " 17254995508224,\n",
       " 17450185778125,\n",
       " 17647138474976,\n",
       " 17845865507007,\n",
       " 18046378835968,\n",
       " 18248690477249,\n",
       " 18452812500000,\n",
       " 18658757027251,\n",
       " 18866536236032,\n",
       " 19076162357493,\n",
       " 19287647677024,\n",
       " 19501004534375,\n",
       " 19716245323776,\n",
       " 19933382494057,\n",
       " 20152428548768,\n",
       " 20373396046299,\n",
       " 20596297600000,\n",
       " 20821145878301,\n",
       " 21047953604832,\n",
       " 21276733558543,\n",
       " 21507498573824,\n",
       " 21740261540625,\n",
       " 21975035404576,\n",
       " 22211833167107,\n",
       " 22450667885568,\n",
       " 22691552673349,\n",
       " 22934500700000,\n",
       " 23179525191351,\n",
       " 23426639429632,\n",
       " 23675856753593,\n",
       " 23927190558624,\n",
       " 24180654296875,\n",
       " 24436261477376,\n",
       " 24694025666157,\n",
       " 24953960486368,\n",
       " 25216079618399,\n",
       " 25480396800000,\n",
       " 25746925826401,\n",
       " 26015680550432,\n",
       " 26286674882643,\n",
       " 26559922791424,\n",
       " 26835438303125,\n",
       " 27113235502176,\n",
       " 27393328531207,\n",
       " 27675731591168,\n",
       " 27960458941449,\n",
       " 28247524900000,\n",
       " 28536943843451,\n",
       " 28828730207232,\n",
       " 29122898485693,\n",
       " 29419463232224,\n",
       " 29718439059375,\n",
       " 30019840638976,\n",
       " 30323682702257,\n",
       " 30629980039968,\n",
       " 30938747502499,\n",
       " 31250000000000,\n",
       " 31563752502501,\n",
       " 31880020040032,\n",
       " 32198817702743,\n",
       " 32520160641024,\n",
       " 32844064065625,\n",
       " 33170543247776,\n",
       " 33499613519307,\n",
       " 33831290272768,\n",
       " 34165588961549,\n",
       " 34502525100000,\n",
       " 34842114263551,\n",
       " 35184372088832,\n",
       " 35529314273793,\n",
       " 35876956577824,\n",
       " 36227314821875,\n",
       " 36580404888576,\n",
       " 36936242722357,\n",
       " 37294844329568,\n",
       " 37656225778599,\n",
       " 38020403200000,\n",
       " 38387392786601,\n",
       " 38757210793632,\n",
       " 39129873538843,\n",
       " 39505397402624,\n",
       " 39883798828125,\n",
       " 40265094321376,\n",
       " 40649300451407,\n",
       " 41036433850368,\n",
       " 41426511213649,\n",
       " 41819549300000,\n",
       " 42215564931651,\n",
       " 42614574994432,\n",
       " 43016596437893,\n",
       " 43421646275424,\n",
       " 43829741584375,\n",
       " 44240899506176,\n",
       " 44655137246457,\n",
       " 45072472075168,\n",
       " 45492921326699,\n",
       " 45916502400000,\n",
       " 46343232758701,\n",
       " 46773129931232,\n",
       " 47206211510943,\n",
       " 47642495156224,\n",
       " 48081998590625,\n",
       " 48524739602976,\n",
       " 48970736047507,\n",
       " 49420005843968,\n",
       " 49872566977749,\n",
       " 50328437500000,\n",
       " 50787635527751,\n",
       " 51250179244032,\n",
       " 51716086897993,\n",
       " 52185376805024,\n",
       " 52658067346875,\n",
       " 53134176971776,\n",
       " 53613724194557,\n",
       " 54096727596768,\n",
       " 54583205826799,\n",
       " 55073177600000,\n",
       " 55566661698801,\n",
       " 56063676972832,\n",
       " 56564242339043,\n",
       " 57068376781824,\n",
       " 57576099353125,\n",
       " 58087429172576,\n",
       " 58602385427607,\n",
       " 59120987373568,\n",
       " 59643254333849,\n",
       " 60169205700000,\n",
       " 60698860931851,\n",
       " 61232239557632,\n",
       " 61769361174093,\n",
       " 62310245446624,\n",
       " 62854912109375,\n",
       " 63403380965376,\n",
       " 63955671886657,\n",
       " 64511804814368,\n",
       " 65071799758899,\n",
       " 65635676800000,\n",
       " 66203456086901,\n",
       " 66775157838432,\n",
       " 67350802343143,\n",
       " 67930409959424,\n",
       " 68514001115625,\n",
       " 69101596310176,\n",
       " 69693216111707,\n",
       " 70288881159168,\n",
       " 70888612161949,\n",
       " 71492429900000,\n",
       " 72100355223951,\n",
       " 72712409055232,\n",
       " 73328612386193,\n",
       " 73948986280224,\n",
       " 74573551871875,\n",
       " 75202330366976,\n",
       " 75835343042757,\n",
       " 76472611247968,\n",
       " 77114156402999,\n",
       " 77760000000000,\n",
       " 78410163603001,\n",
       " 79064668848032,\n",
       " 79723537443243,\n",
       " 80386791169024,\n",
       " 81054451878125,\n",
       " 81726541495776,\n",
       " 82403082019807,\n",
       " 83084095520768,\n",
       " 83769604142049,\n",
       " 84459630100000,\n",
       " 85154195684051,\n",
       " 85853323256832,\n",
       " 86557035254293,\n",
       " 87265354185824,\n",
       " 87978302634375,\n",
       " 88695903256576,\n",
       " 89418178782857,\n",
       " 90145152017568,\n",
       " 90876845839099,\n",
       " 91613283200000,\n",
       " 92354487127101,\n",
       " 93100480721632,\n",
       " 93851287159343,\n",
       " 94606929690624,\n",
       " 95367431640625,\n",
       " 96132816409376,\n",
       " 96903107471907,\n",
       " 97678328378368,\n",
       " 98458502754149,\n",
       " 99243654300000,\n",
       " 100033806792151,\n",
       " 100828984082432,\n",
       " 101629210098393,\n",
       " 102434508843424,\n",
       " 103244904396875,\n",
       " 104060420914176,\n",
       " 104881082626957,\n",
       " 105706913843168,\n",
       " 106537938947199,\n",
       " 107374182400000,\n",
       " 108215668739201,\n",
       " 109062422579232,\n",
       " 109914468611443,\n",
       " 110771831604224,\n",
       " 111634536403125,\n",
       " 112502607930976,\n",
       " 113376071188007,\n",
       " 114254951251968,\n",
       " 115139273278249,\n",
       " 116029062500000,\n",
       " 116924344228251,\n",
       " 117825143852032,\n",
       " 118731486838493,\n",
       " 119643398733024,\n",
       " 120560905159375,\n",
       " 121484031819776,\n",
       " 122412804495057,\n",
       " 123347249044768,\n",
       " 124287391407299,\n",
       " 125233257600000,\n",
       " 126184873719301,\n",
       " 127142265940832,\n",
       " 128105460519543,\n",
       " 129074483789824,\n",
       " 130049362165625,\n",
       " 131030122140576,\n",
       " 132016790288107,\n",
       " 133009393261568,\n",
       " 134007957794349,\n",
       " 135012510700000,\n",
       " 136023078872351,\n",
       " 137039689285632,\n",
       " 138062368994593,\n",
       " 139091145134624,\n",
       " 140126044921875,\n",
       " 141167095653376,\n",
       " 142214324707157,\n",
       " 143267759542368,\n",
       " 144327427699399,\n",
       " 145393356800000,\n",
       " 146465574547401,\n",
       " 147544108726432,\n",
       " 148628987203643,\n",
       " 149720237927424,\n",
       " 150817888928125,\n",
       " 151921968318176,\n",
       " 153032504292207,\n",
       " 154149525127168,\n",
       " 155273059182449,\n",
       " 156403134900000,\n",
       " 157539780804451,\n",
       " 158683025503232,\n",
       " 159832897686693,\n",
       " 160989426128224,\n",
       " 162152639684375,\n",
       " 163322567294976,\n",
       " 164499237983257,\n",
       " 165682680855968,\n",
       " 166872925103499,\n",
       " 168070000000000,\n",
       " 169273934903501,\n",
       " 170484759256032,\n",
       " 171702502583743,\n",
       " 172927194497024,\n",
       " 174158864690625,\n",
       " 175397542943776,\n",
       " 176643259120307,\n",
       " 177896043168768,\n",
       " 179155925122549,\n",
       " 180422935100000,\n",
       " 181697103304551,\n",
       " 182978460024832,\n",
       " 184267035634793,\n",
       " 185562860593824,\n",
       " 186865965446875,\n",
       " 188176380824576,\n",
       " 189494137443357,\n",
       " 190819266105568,\n",
       " 192151797699599,\n",
       " 193491763200000,\n",
       " 194839193667601,\n",
       " 196194120249632,\n",
       " 197556574179843,\n",
       " 198926586778624,\n",
       " 200304189453125,\n",
       " 201689413697376,\n",
       " 203082291092407,\n",
       " 204482853306368,\n",
       " 205891132094649,\n",
       " 207307159300000,\n",
       " 208730966852651,\n",
       " 210162586770432,\n",
       " 211602051158893,\n",
       " 213049392211424,\n",
       " 214504642209375,\n",
       " 215967833522176,\n",
       " 217438998607457,\n",
       " 218918170011168,\n",
       " 220405380367699,\n",
       " 221900662400000,\n",
       " 223404048919701,\n",
       " 224915572827232,\n",
       " 226435267111943,\n",
       " 227963164852224,\n",
       " 229499299215625,\n",
       " 231043703458976,\n",
       " 232596410928507,\n",
       " 234157455059968,\n",
       " 235726869378749,\n",
       " 237304687500000,\n",
       " 238890943128751,\n",
       " 240485670060032,\n",
       " 242088902178993,\n",
       " 243700673461024,\n",
       " 245321017971875,\n",
       " 246949969867776,\n",
       " 248587563395557,\n",
       " 250233832892768,\n",
       " 251888812787799,\n",
       " 253552537600000,\n",
       " 255225041939801,\n",
       " 256906360508832,\n",
       " 258596528100043,\n",
       " 260295579597824,\n",
       " 262003549978125,\n",
       " 263720474308576,\n",
       " 265446387748607,\n",
       " 267181325549568,\n",
       " 268925323054849,\n",
       " 270678415700000,\n",
       " 272440639012851,\n",
       " 274212028613632,\n",
       " 275992620215093,\n",
       " 277782449622624,\n",
       " 279581552734375,\n",
       " 281389965541376,\n",
       " 283207724127657,\n",
       " 285034864670368,\n",
       " 286871423439899,\n",
       " 288717436800000,\n",
       " 290572941207901,\n",
       " 292437973214432,\n",
       " 294312569464143,\n",
       " 296196766695424,\n",
       " 298090601740625,\n",
       " 299994111526176,\n",
       " 301907333072707,\n",
       " 303830303495168,\n",
       " 305763060002949,\n",
       " 307705639900000,\n",
       " 309658080584951,\n",
       " 311620419551232,\n",
       " 313592694387193,\n",
       " 315574942776224,\n",
       " 317567202496875,\n",
       " 319569511422976,\n",
       " 321581907523757,\n",
       " 323604428863968,\n",
       " 325637113603999,\n",
       " 327680000000000,\n",
       " 329733126404001,\n",
       " 331796531264032,\n",
       " 333870253124243,\n",
       " 335954330625024,\n",
       " 338048802503125,\n",
       " 340153707591776,\n",
       " 342269084820807,\n",
       " 344394973216768,\n",
       " 346531411903049,\n",
       " 348678440100000,\n",
       " 350836097125051,\n",
       " 353004422392832,\n",
       " 355183455415293,\n",
       " 357373235801824,\n",
       " 359573803259375,\n",
       " 361785197592576,\n",
       " 364007458703857,\n",
       " 366240626593568,\n",
       " 368484741360099,\n",
       " 370739843200000,\n",
       " 373005972408101,\n",
       " 375283169377632,\n",
       " 377571474600343,\n",
       " 379870928666624,\n",
       " 382181572265625,\n",
       " 384503446185376,\n",
       " 386836591312907,\n",
       " 389181048634368,\n",
       " 391536859235149,\n",
       " 393904064300000,\n",
       " 396282705113151,\n",
       " 398672823058432,\n",
       " 401074459619393,\n",
       " 403487656379424,\n",
       " 405912455021875,\n",
       " 408348897330176,\n",
       " 410797025187957,\n",
       " 413256880579168,\n",
       " 415728505588199,\n",
       " 418211942400000,\n",
       " 420707233300201,\n",
       " 423214420675232,\n",
       " 425733547012443,\n",
       " 428264654900224,\n",
       " 430807787028125,\n",
       " 433362986186976,\n",
       " 435930295269007,\n",
       " 438509757267968,\n",
       " 441101415279249,\n",
       " 443705312500000,\n",
       " 446321492229251,\n",
       " 448949997868032,\n",
       " 451590872919493,\n",
       " 454244160989024,\n",
       " 456909905784375,\n",
       " 459588151115776,\n",
       " 462278940896057,\n",
       " 464982319140768,\n",
       " 467698329968299,\n",
       " 470427017600000,\n",
       " 473168426360301,\n",
       " 475922600676832,\n",
       " 478689585080543,\n",
       " 481469424205824,\n",
       " 484262162790625,\n",
       " 487067845676576,\n",
       " 489886517809107,\n",
       " 492718224237568,\n",
       " 495563010115349,\n",
       " 498420920700000,\n",
       " 501292001353351,\n",
       " 504176297541632,\n",
       " 507073854835593,\n",
       " 509984718910624,\n",
       " 512908935546875,\n",
       " 515846550629376,\n",
       " 518797610148157,\n",
       " 521762160198368,\n",
       " 524740246980399,\n",
       " 527731916800000,\n",
       " 530737216068401,\n",
       " 533756191302432,\n",
       " 536788889124643,\n",
       " 539835356263424,\n",
       " 542895639553125,\n",
       " 545969785934176,\n",
       " 549057842453207,\n",
       " 552159856263168,\n",
       " 555275874623449,\n",
       " 558405944900000,\n",
       " 561550114565451,\n",
       " 564708431199232,\n",
       " 567880942487693,\n",
       " 571067696224224,\n",
       " 574268740309375,\n",
       " 577484122750976,\n",
       " 580713891664257,\n",
       " 583958095271968,\n",
       " 587216781904499,\n",
       " 590490000000000,\n",
       " 593777798104501,\n",
       " 597080224872032,\n",
       " 600397329064743,\n",
       " 603729159553024,\n",
       " 607075765315625,\n",
       " 610437195439776,\n",
       " 613813499121307,\n",
       " 617204725664768,\n",
       " 620610924483549,\n",
       " 624032145100000,\n",
       " 627468437145551,\n",
       " 630919850360832,\n",
       " 634386434595793,\n",
       " 637868239809824,\n",
       " 641365316071875,\n",
       " 644877713560576,\n",
       " 648405482564357,\n",
       " 651948673481568,\n",
       " 655507336820599,\n",
       " 659081523200000,\n",
       " 662671283348601,\n",
       " 666276668105632,\n",
       " 669897728420843,\n",
       " 673534515354624,\n",
       " 677187080078125,\n",
       " 680855473873376,\n",
       " 684539748133407,\n",
       " 688239954362368,\n",
       " 691956144175649,\n",
       " 695688369300000,\n",
       " 699436681573651,\n",
       " 703201132946432,\n",
       " 706981775479893,\n",
       " 710778661347424,\n",
       " 714591842834375,\n",
       " 718421372338176,\n",
       " 722267302368457,\n",
       " 726129685547168,\n",
       " 730008574608699,\n",
       " 733904022400000,\n",
       " 737816081880701,\n",
       " 741744806123232,\n",
       " 745690248312943,\n",
       " 749652461748224,\n",
       " 753631499840625,\n",
       " 757627416114976,\n",
       " 761640264209507,\n",
       " 765670097875968,\n",
       " 769716970979749,\n",
       " 773780937500000,\n",
       " 777862051529751,\n",
       " 781960367276032,\n",
       " 786075939059993,\n",
       " 790208821317024,\n",
       " 794359068596875,\n",
       " 798526735563776,\n",
       " 802711876996557,\n",
       " 806914547788768,\n",
       " 811134802948799,\n",
       " 815372697600000,\n",
       " 819628286980801,\n",
       " 823901626444832,\n",
       " 828192771461043,\n",
       " 832501777613824,\n",
       " 836828700603125,\n",
       " 841173596244576,\n",
       " 845536520469607,\n",
       " 849917529325568,\n",
       " 854316678975849,\n",
       " 858734025700000,\n",
       " 863169625893851,\n",
       " 867623536069632,\n",
       " 872095812856093,\n",
       " 876586512998624,\n",
       " 881095693359375,\n",
       " 885623410917376,\n",
       " 890169722768657,\n",
       " 894734686126368,\n",
       " 899318358320899,\n",
       " 903920796800000,\n",
       " 908542059128901,\n",
       " 913182202990432,\n",
       " 917841286185143,\n",
       " 922519366631424,\n",
       " 927216502365625,\n",
       " 931932751542176,\n",
       " 936668172433707,\n",
       " 941422823431168,\n",
       " 946196763043949,\n",
       " 950990049900000,\n",
       " 955802742745951,\n",
       " 960634900447232,\n",
       " 965486581988193,\n",
       " 970357846472224,\n",
       " 975248753121875,\n",
       " 980159361278976,\n",
       " 985089730404757,\n",
       " 990039920079968,\n",
       " 995009990004999,\n",
       " ...]"
      ]
     },
     "execution_count": 97,
     "metadata": {},
     "output_type": "execute_result"
    }
   ],
   "source": [
    "list_of_numbers"
   ]
  },
  {
   "cell_type": "code",
   "execution_count": 100,
   "metadata": {},
   "outputs": [
    {
     "data": {
      "text/plain": [
       "0.019228219985961914"
      ]
     },
     "execution_count": 100,
     "metadata": {},
     "output_type": "execute_result"
    }
   ],
   "source": [
    "start_time = time()\n",
    "\n",
    "array_of_numbers = np.arange(n) ** 5\n",
    "\n",
    "end_time = time()\n",
    "\n",
    "end_time - start_time"
   ]
  },
  {
   "cell_type": "code",
   "execution_count": 101,
   "metadata": {},
   "outputs": [
    {
     "data": {
      "text/plain": [
       "array([                   0,                    1,                   32,\n",
       "       ..., -8766765102231392691,  6592478144606745568,\n",
       "        5058113244275780415])"
      ]
     },
     "execution_count": 101,
     "metadata": {},
     "output_type": "execute_result"
    }
   ],
   "source": [
    "array_of_numbers\n"
   ]
  },
  {
   "cell_type": "markdown",
   "metadata": {},
   "source": [
    "#### Concatenate"
   ]
  },
  {
   "cell_type": "code",
   "execution_count": 106,
   "metadata": {},
   "outputs": [],
   "source": [
    "first = np.array([[1,2,3],[4,5,6]])\n",
    "second = np.array([[0,0,0], [9,9,9]])"
   ]
  },
  {
   "cell_type": "code",
   "execution_count": 107,
   "metadata": {},
   "outputs": [
    {
     "ename": "TypeError",
     "evalue": "only integer scalar arrays can be converted to a scalar index",
     "output_type": "error",
     "traceback": [
      "\u001b[0;31m---------------------------------------------------------------------------\u001b[0m",
      "\u001b[0;31mTypeError\u001b[0m                                 Traceback (most recent call last)",
      "\u001b[0;32m<ipython-input-107-388067b156f6>\u001b[0m in \u001b[0;36m<module>\u001b[0;34m\u001b[0m\n\u001b[0;32m----> 1\u001b[0;31m \u001b[0mnp\u001b[0m\u001b[0;34m.\u001b[0m\u001b[0mconcatenate\u001b[0m\u001b[0;34m(\u001b[0m\u001b[0mfirst\u001b[0m\u001b[0;34m,\u001b[0m \u001b[0msecond\u001b[0m\u001b[0;34m)\u001b[0m\u001b[0;34m\u001b[0m\u001b[0;34m\u001b[0m\u001b[0m\n\u001b[0m",
      "\u001b[0;32m<__array_function__ internals>\u001b[0m in \u001b[0;36mconcatenate\u001b[0;34m(*args, **kwargs)\u001b[0m\n",
      "\u001b[0;31mTypeError\u001b[0m: only integer scalar arrays can be converted to a scalar index"
     ]
    }
   ],
   "source": [
    "np.concatenate(first, second)"
   ]
  },
  {
   "cell_type": "markdown",
   "metadata": {},
   "source": [
    "#### Transpose"
   ]
  },
  {
   "cell_type": "code",
   "execution_count": null,
   "metadata": {},
   "outputs": [],
   "source": []
  },
  {
   "cell_type": "markdown",
   "metadata": {},
   "source": [
    "#### Splitting arrays"
   ]
  },
  {
   "cell_type": "code",
   "execution_count": 95,
   "metadata": {},
   "outputs": [],
   "source": [
    "hundred = np.array(range(1,101))"
   ]
  },
  {
   "cell_type": "code",
   "execution_count": null,
   "metadata": {},
   "outputs": [],
   "source": []
  },
  {
   "cell_type": "markdown",
   "metadata": {},
   "source": [
    "### Bonus: broadcasting"
   ]
  },
  {
   "cell_type": "code",
   "execution_count": 77,
   "metadata": {},
   "outputs": [
    {
     "name": "stdout",
     "output_type": "stream",
     "text": [
      "[[ 2  2  4]\n",
      " [ 5  5  7]\n",
      " [ 8  8 10]\n",
      " [11 11 13]]\n"
     ]
    }
   ],
   "source": [
    "# We will add the vector v to each row of the matrix x,\n",
    "# storing the result in the matrix y\n",
    "x = np.array([[1,2,3], [4,5,6], [7,8,9], [10, 11, 12]])\n",
    "v = np.array([1, 0, 1])\n",
    "y = np.empty_like(x)   # Create an empty matrix with the same shape as x\n",
    "\n",
    "# Add the vector v to each row of the matrix x with an explicit loop\n",
    "for i in range(4):\n",
    "    y[i, :] = x[i, :] + v\n",
    "\n",
    "print(y)"
   ]
  },
  {
   "cell_type": "markdown",
   "metadata": {},
   "source": [
    "This works; however when the matrix x is very large, computing an explicit loop in Python could be slow. Note that adding the vector v to each row of the matrix x is equivalent to forming a matrix vv by stacking multiple copies of v vertically, then performing elementwise summation of x and vv. We could implement this approach like this:"
   ]
  },
  {
   "cell_type": "code",
   "execution_count": 78,
   "metadata": {},
   "outputs": [
    {
     "name": "stdout",
     "output_type": "stream",
     "text": [
      "[[1 0 1]\n",
      " [1 0 1]\n",
      " [1 0 1]\n",
      " [1 0 1]]\n"
     ]
    }
   ],
   "source": [
    "vv = np.tile(v, (4, 1))  # Stack 4 copies of v on top of each other\n",
    "print(vv)                # Prints \"[[1 0 1]\n",
    "                         #          [1 0 1]\n",
    "                         #          [1 0 1]\n",
    "                         #          [1 0 1]]\""
   ]
  },
  {
   "cell_type": "code",
   "execution_count": 79,
   "metadata": {},
   "outputs": [
    {
     "name": "stdout",
     "output_type": "stream",
     "text": [
      "[[ 2  2  4]\n",
      " [ 5  5  7]\n",
      " [ 8  8 10]\n",
      " [11 11 13]]\n"
     ]
    }
   ],
   "source": [
    "y = x + vv  # Add x and vv elementwise\n",
    "print(y)"
   ]
  },
  {
   "cell_type": "code",
   "execution_count": 80,
   "metadata": {
    "scrolled": true
   },
   "outputs": [
    {
     "name": "stdout",
     "output_type": "stream",
     "text": [
      "[[ 2  2  4]\n",
      " [ 5  5  7]\n",
      " [ 8  8 10]\n",
      " [11 11 13]]\n"
     ]
    }
   ],
   "source": [
    "y = x + v  # Add v to each row of x using broadcasting\n",
    "print(y)"
   ]
  },
  {
   "cell_type": "markdown",
   "metadata": {},
   "source": [
    "[how broadcasting works](https://numpy.org/doc/stable/user/basics.broadcasting.html)"
   ]
  },
  {
   "cell_type": "markdown",
   "metadata": {},
   "source": [
    "Some applications of bradcasting:"
   ]
  },
  {
   "cell_type": "code",
   "execution_count": 38,
   "metadata": {},
   "outputs": [
    {
     "name": "stdout",
     "output_type": "stream",
     "text": [
      "[[ 4  5]\n",
      " [ 8 10]\n",
      " [12 15]]\n"
     ]
    }
   ],
   "source": [
    "# Compute outer product of vectors\n",
    "v = np.array([1,2,3])  # v has shape (3,)\n",
    "w = np.array([4,5])    # w has shape (2,)\n",
    "# To compute an outer product, we first reshape v to be a column\n",
    "# vector of shape (3, 1); we can then broadcast it against w to yield\n",
    "# an output of shape (3, 2), which is the outer product of v and w:\n",
    "\n",
    "print(np.reshape(v, (3, 1)) * w)"
   ]
  },
  {
   "cell_type": "code",
   "execution_count": 83,
   "metadata": {},
   "outputs": [
    {
     "name": "stdout",
     "output_type": "stream",
     "text": [
      "[[2 4 6]\n",
      " [5 7 9]]\n"
     ]
    }
   ],
   "source": [
    "# Add a vector to each row of a matrix\n",
    "x = np.array([[1,2,3], [4,5,6]])\n",
    "# x has shape (2, 3) and v has shape (3,) so they broadcast to (2, 3),\n",
    "# giving the following matrix:\n",
    "\n",
    "print(x + v)"
   ]
  },
  {
   "cell_type": "code",
   "execution_count": 84,
   "metadata": {},
   "outputs": [
    {
     "name": "stdout",
     "output_type": "stream",
     "text": [
      "[[ 5  6  7]\n",
      " [ 9 10 11]]\n"
     ]
    }
   ],
   "source": [
    "# Add a vector to each column of a matrix\n",
    "# x has shape (2, 3) and w has shape (2,).\n",
    "# If we transpose x then it has shape (3, 2) and can be broadcast\n",
    "# against w to yield a result of shape (3, 2); transposing this result\n",
    "# yields the final result of shape (2, 3) which is the matrix x with\n",
    "# the vector w added to each column. Gives the following matrix:\n",
    "\n",
    "print((x.T + w).T)"
   ]
  },
  {
   "cell_type": "code",
   "execution_count": 70,
   "metadata": {
    "scrolled": true
   },
   "outputs": [
    {
     "name": "stdout",
     "output_type": "stream",
     "text": [
      "x \n",
      " 7\n",
      "y \n",
      " 7\n"
     ]
    }
   ],
   "source": [
    "x = c[0,0]\n",
    "\n",
    "print(\"x\", \"\\n\", x)\n",
    "\n",
    "y = c[0,1]\n",
    "print(\"y\", \"\\n\", y)"
   ]
  },
  {
   "cell_type": "code",
   "execution_count": 27,
   "metadata": {
    "collapsed": true
   },
   "outputs": [
    {
     "name": "stdout",
     "output_type": "stream",
     "text": [
      "[[1.22458098 1.16849464 0.49307671 0.95069974 1.11837576]\n",
      " [1.18180799 0.81070707 0.92343696 0.84729514 0.40211329]\n",
      " [0.80629803 0.60882671 0.80446534 1.70746551 0.75776518]\n",
      " [0.99696165 0.720522   0.20863104 1.61934258 0.26416839]]\n"
     ]
    }
   ],
   "source": [
    "# Add elements of x and y together\n",
    "print(np.add(x, y))"
   ]
  },
  {
   "cell_type": "code",
   "execution_count": 28,
   "metadata": {
    "collapsed": true
   },
   "outputs": [
    {
     "name": "stdout",
     "output_type": "stream",
     "text": [
      "[[ 0.6605368   0.24431389 -0.15583537 -0.11847305 -0.21446654]\n",
      " [-0.74861066  0.70875269 -0.68495345 -0.46618016  0.12571833]\n",
      " [ 0.76993308 -0.47848158 -0.13150716  0.05737346  0.09249062]\n",
      " [-0.45836073 -0.57693357 -0.03191186  0.01125223  0.16068396]]\n"
     ]
    }
   ],
   "source": [
    "# Subtract elements of x from elements of y\n",
    "print(np.subtract(y, x))"
   ]
  },
  {
   "cell_type": "code",
   "execution_count": 33,
   "metadata": {
    "collapsed": true
   },
   "outputs": [
    {
     "name": "stdout",
     "output_type": "stream",
     "text": [
      "[[0.26582243 0.32642261 0.05470999 0.22244853 0.30119211]\n",
      " [0.20906305 0.0387289  0.09589365 0.12514628 0.0364725 ]\n",
      " [0.01432989 0.03543133 0.15746759 0.72803669 0.14141339]\n",
      " [0.19595949 0.0465749  0.01062714 0.65553594 0.0109914 ]]\n"
     ]
    }
   ],
   "source": [
    "# Multiply elements of x and y together\n",
    "print(np.multiply(x, y))"
   ]
  },
  {
   "cell_type": "code",
   "execution_count": null,
   "metadata": {},
   "outputs": [],
   "source": [
    "# Divide elements of y by elements of x\n",
    "print(np.divide(y, x))"
   ]
  }
 ],
 "metadata": {
  "kernelspec": {
   "display_name": "Python 3",
   "language": "python",
   "name": "python3"
  },
  "language_info": {
   "codemirror_mode": {
    "name": "ipython",
    "version": 3
   },
   "file_extension": ".py",
   "mimetype": "text/x-python",
   "name": "python",
   "nbconvert_exporter": "python",
   "pygments_lexer": "ipython3",
   "version": "3.8.6"
  }
 },
 "nbformat": 4,
 "nbformat_minor": 4
}
